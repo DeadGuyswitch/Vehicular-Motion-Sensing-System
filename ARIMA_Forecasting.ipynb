{
  "nbformat": 4,
  "nbformat_minor": 0,
  "metadata": {
    "colab": {
      "name": "ARIMA_Forecasting.ipynb",
      "provenance": [],
      "collapsed_sections": []
    },
    "kernelspec": {
      "name": "python3",
      "display_name": "Python 3"
    }
  },
  "cells": [
    {
      "cell_type": "code",
      "metadata": {
        "id": "HE-nRWPVJu_M"
      },
      "source": [
        "%tensorflow_version 2.x"
      ],
      "execution_count": null,
      "outputs": []
    },
    {
      "cell_type": "code",
      "metadata": {
        "id": "qqv7NPEuQAFs",
        "colab": {
          "base_uri": "https://localhost:8080/"
        },
        "outputId": "d39046ca-3626-49cf-9e69-42c380a6fba7"
      },
      "source": [
        "!pip install pmdarima"
      ],
      "execution_count": null,
      "outputs": [
        {
          "output_type": "stream",
          "text": [
            "Requirement already satisfied: pmdarima in /usr/local/lib/python3.7/dist-packages (1.8.0)\n",
            "Requirement already satisfied: scipy>=1.3.2 in /usr/local/lib/python3.7/dist-packages (from pmdarima) (1.4.1)\n",
            "Requirement already satisfied: pandas>=0.19 in /usr/local/lib/python3.7/dist-packages (from pmdarima) (1.1.5)\n",
            "Requirement already satisfied: setuptools!=50.0.0,>=38.6.0 in /usr/local/lib/python3.7/dist-packages (from pmdarima) (54.2.0)\n",
            "Requirement already satisfied: Cython<0.29.18,>=0.29 in /usr/local/lib/python3.7/dist-packages (from pmdarima) (0.29.17)\n",
            "Requirement already satisfied: urllib3 in /usr/local/lib/python3.7/dist-packages (from pmdarima) (1.24.3)\n",
            "Requirement already satisfied: numpy>=1.17.3 in /usr/local/lib/python3.7/dist-packages (from pmdarima) (1.19.5)\n",
            "Requirement already satisfied: joblib>=0.11 in /usr/local/lib/python3.7/dist-packages (from pmdarima) (1.0.1)\n",
            "Requirement already satisfied: scikit-learn>=0.22 in /usr/local/lib/python3.7/dist-packages (from pmdarima) (0.22.2.post1)\n",
            "Requirement already satisfied: statsmodels!=0.12.0,>=0.11 in /usr/local/lib/python3.7/dist-packages (from pmdarima) (0.12.2)\n",
            "Requirement already satisfied: pytz>=2017.2 in /usr/local/lib/python3.7/dist-packages (from pandas>=0.19->pmdarima) (2018.9)\n",
            "Requirement already satisfied: python-dateutil>=2.7.3 in /usr/local/lib/python3.7/dist-packages (from pandas>=0.19->pmdarima) (2.8.1)\n",
            "Requirement already satisfied: patsy>=0.5 in /usr/local/lib/python3.7/dist-packages (from statsmodels!=0.12.0,>=0.11->pmdarima) (0.5.1)\n",
            "Requirement already satisfied: six>=1.5 in /usr/local/lib/python3.7/dist-packages (from python-dateutil>=2.7.3->pandas>=0.19->pmdarima) (1.15.0)\n"
          ],
          "name": "stdout"
        }
      ]
    },
    {
      "cell_type": "code",
      "metadata": {
        "id": "U5Y52KXKJLY2"
      },
      "source": [
        "import pandas as pd \n",
        "import numpy as np\n",
        "import tensorflow as tf\n",
        "from tensorflow import keras\n",
        "import matplotlib.pyplot as plt\n",
        "import requests\n",
        "from io import StringIO\n",
        "from statsmodels.tsa.arima_model import ARIMA\n",
        "from statsmodels.tsa.seasonal import seasonal_decompose\n",
        "import cufflinks as cf\n",
        "import plotly.graph_objs as go\n",
        "from plotly.subplots import make_subplots\n",
        "from scipy import stats\n",
        "import seaborn as sns\n",
        "from keras.callbacks import EarlyStopping\n",
        "from sklearn.preprocessing import MinMaxScaler\n",
        "from sklearn.metrics import mean_squared_error\n"
      ],
      "execution_count": null,
      "outputs": []
    },
    {
      "cell_type": "code",
      "metadata": {
        "id": "MgNVpxYI5Bvb"
      },
      "source": [
        "import math"
      ],
      "execution_count": null,
      "outputs": []
    },
    {
      "cell_type": "code",
      "metadata": {
        "id": "riDAbwr6oeEd"
      },
      "source": [
        "import warnings\n",
        "warnings.filterwarnings('ignore', 'statsmodels.tsa.arima_model.ARMA',\n",
        "                        FutureWarning)\n",
        "warnings.filterwarnings('ignore', 'statsmodels.tsa.arima_model.ARIMA',\n",
        "                        FutureWarning)\n"
      ],
      "execution_count": null,
      "outputs": []
    },
    {
      "cell_type": "code",
      "metadata": {
        "id": "0qBiwG91K4yU",
        "colab": {
          "base_uri": "https://localhost:8080/"
        },
        "outputId": "3f7e6506-9c44-4734-9515-f1ba838f2eb9"
      },
      "source": [
        "from google.colab import drive\n",
        "drive.mount('/content/drive', force_remount\n",
        "=True)"
      ],
      "execution_count": null,
      "outputs": [
        {
          "output_type": "stream",
          "text": [
            "Mounted at /content/drive\n"
          ],
          "name": "stdout"
        }
      ]
    },
    {
      "cell_type": "code",
      "metadata": {
        "id": "V2q82GkZdfzf",
        "colab": {
          "base_uri": "https://localhost:8080/"
        },
        "outputId": "c5f92c26-3dc7-4ebd-dce5-bb9b39e27bab"
      },
      "source": [
        "cd drive/"
      ],
      "execution_count": null,
      "outputs": [
        {
          "output_type": "stream",
          "text": [
            "/content/drive\n"
          ],
          "name": "stdout"
        }
      ]
    },
    {
      "cell_type": "code",
      "metadata": {
        "id": "pJHacCZmexMC",
        "colab": {
          "base_uri": "https://localhost:8080/",
          "height": 35
        },
        "outputId": "959b5ad1-6afc-4e33-e055-d0773db25251"
      },
      "source": [
        "pwd"
      ],
      "execution_count": null,
      "outputs": [
        {
          "output_type": "execute_result",
          "data": {
            "application/vnd.google.colaboratory.intrinsic+json": {
              "type": "string"
            },
            "text/plain": [
              "'/content/drive'"
            ]
          },
          "metadata": {
            "tags": []
          },
          "execution_count": 8
        }
      ]
    },
    {
      "cell_type": "code",
      "metadata": {
        "id": "CisRt4TqfQ6X",
        "colab": {
          "base_uri": "https://localhost:8080/"
        },
        "outputId": "b9e6f11e-79ef-419c-bf14-4a19b0d43f40"
      },
      "source": [
        "cd My  Drive\n"
      ],
      "execution_count": null,
      "outputs": [
        {
          "output_type": "stream",
          "text": [
            "/content/drive/My Drive\n"
          ],
          "name": "stdout"
        }
      ]
    },
    {
      "cell_type": "code",
      "metadata": {
        "id": "vpdQxx-rPg4m",
        "colab": {
          "base_uri": "https://localhost:8080/"
        },
        "outputId": "5d9da31c-2a93-43be-bf59-89e08a1c3a04"
      },
      "source": [
        "cd Major_Project/src/"
      ],
      "execution_count": null,
      "outputs": [
        {
          "output_type": "stream",
          "text": [
            "/content/drive/My Drive/Major_Project/src\n"
          ],
          "name": "stdout"
        }
      ]
    },
    {
      "cell_type": "code",
      "metadata": {
        "id": "qHRvya41JkHw",
        "colab": {
          "base_uri": "https://localhost:8080/",
          "height": 629
        },
        "outputId": "8f40f6ed-5508-4053-d087-cbad099b107b"
      },
      "source": [
        "df = pd.read_csv('sensor1_pp.csv',index_col = 0)\n",
        "df"
      ],
      "execution_count": null,
      "outputs": [
        {
          "output_type": "execute_result",
          "data": {
            "text/html": [
              "<div>\n",
              "<style scoped>\n",
              "    .dataframe tbody tr th:only-of-type {\n",
              "        vertical-align: middle;\n",
              "    }\n",
              "\n",
              "    .dataframe tbody tr th {\n",
              "        vertical-align: top;\n",
              "    }\n",
              "\n",
              "    .dataframe thead th {\n",
              "        text-align: right;\n",
              "    }\n",
              "</style>\n",
              "<table border=\"1\" class=\"dataframe\">\n",
              "  <thead>\n",
              "    <tr style=\"text-align: right;\">\n",
              "      <th></th>\n",
              "      <th>ax(g)</th>\n",
              "      <th>ay(g)</th>\n",
              "      <th>az(g)</th>\n",
              "      <th>wx(deg/s)</th>\n",
              "      <th>wy(deg/s)</th>\n",
              "      <th>wz(deg/s)</th>\n",
              "      <th>AngleX(deg)</th>\n",
              "      <th>AngleY(deg)</th>\n",
              "      <th>AngleZ(deg)</th>\n",
              "      <th>T(°)</th>\n",
              "      <th>hx</th>\n",
              "      <th>hy</th>\n",
              "      <th>hz</th>\n",
              "    </tr>\n",
              "    <tr>\n",
              "      <th>ChipTime</th>\n",
              "      <th></th>\n",
              "      <th></th>\n",
              "      <th></th>\n",
              "      <th></th>\n",
              "      <th></th>\n",
              "      <th></th>\n",
              "      <th></th>\n",
              "      <th></th>\n",
              "      <th></th>\n",
              "      <th></th>\n",
              "      <th></th>\n",
              "      <th></th>\n",
              "      <th></th>\n",
              "    </tr>\n",
              "  </thead>\n",
              "  <tbody>\n",
              "    <tr>\n",
              "      <th>2020-02-18 15:40:20.960</th>\n",
              "      <td>-0.1851</td>\n",
              "      <td>0.1094</td>\n",
              "      <td>0.9927</td>\n",
              "      <td>-5.7373</td>\n",
              "      <td>-8.0566</td>\n",
              "      <td>5.1880</td>\n",
              "      <td>7.3663</td>\n",
              "      <td>11.4148</td>\n",
              "      <td>2.2852</td>\n",
              "      <td>18.11</td>\n",
              "      <td>929</td>\n",
              "      <td>-1405</td>\n",
              "      <td>27</td>\n",
              "    </tr>\n",
              "    <tr>\n",
              "      <th>2020-02-18 15:40:21.160</th>\n",
              "      <td>-0.1533</td>\n",
              "      <td>0.0942</td>\n",
              "      <td>1.0044</td>\n",
              "      <td>-6.1646</td>\n",
              "      <td>9.5215</td>\n",
              "      <td>0.2441</td>\n",
              "      <td>6.3062</td>\n",
              "      <td>10.0964</td>\n",
              "      <td>1.7084</td>\n",
              "      <td>18.15</td>\n",
              "      <td>924</td>\n",
              "      <td>-1399</td>\n",
              "      <td>47</td>\n",
              "    </tr>\n",
              "    <tr>\n",
              "      <th>2020-02-18 15:40:21.360</th>\n",
              "      <td>-0.1455</td>\n",
              "      <td>0.0859</td>\n",
              "      <td>1.0083</td>\n",
              "      <td>2.4414</td>\n",
              "      <td>1.5259</td>\n",
              "      <td>-1.0986</td>\n",
              "      <td>5.9656</td>\n",
              "      <td>9.5142</td>\n",
              "      <td>1.9391</td>\n",
              "      <td>18.14</td>\n",
              "      <td>896</td>\n",
              "      <td>-1369</td>\n",
              "      <td>51</td>\n",
              "    </tr>\n",
              "    <tr>\n",
              "      <th>2020-02-18 15:40:21.560</th>\n",
              "      <td>-0.1299</td>\n",
              "      <td>0.1064</td>\n",
              "      <td>1.0044</td>\n",
              "      <td>3.2959</td>\n",
              "      <td>-5.0659</td>\n",
              "      <td>9.2163</td>\n",
              "      <td>6.7072</td>\n",
              "      <td>8.4705</td>\n",
              "      <td>3.7573</td>\n",
              "      <td>18.14</td>\n",
              "      <td>931</td>\n",
              "      <td>-1369</td>\n",
              "      <td>49</td>\n",
              "    </tr>\n",
              "    <tr>\n",
              "      <th>2020-02-18 15:40:21.760</th>\n",
              "      <td>-0.1230</td>\n",
              "      <td>0.0986</td>\n",
              "      <td>1.0044</td>\n",
              "      <td>-4.5166</td>\n",
              "      <td>-6.5918</td>\n",
              "      <td>2.6245</td>\n",
              "      <td>6.3336</td>\n",
              "      <td>7.5751</td>\n",
              "      <td>4.5593</td>\n",
              "      <td>18.14</td>\n",
              "      <td>1012</td>\n",
              "      <td>-1426</td>\n",
              "      <td>39</td>\n",
              "    </tr>\n",
              "    <tr>\n",
              "      <th>...</th>\n",
              "      <td>...</td>\n",
              "      <td>...</td>\n",
              "      <td>...</td>\n",
              "      <td>...</td>\n",
              "      <td>...</td>\n",
              "      <td>...</td>\n",
              "      <td>...</td>\n",
              "      <td>...</td>\n",
              "      <td>...</td>\n",
              "      <td>...</td>\n",
              "      <td>...</td>\n",
              "      <td>...</td>\n",
              "      <td>...</td>\n",
              "    </tr>\n",
              "    <tr>\n",
              "      <th>2020-02-28 11:41:17.960</th>\n",
              "      <td>0.6367</td>\n",
              "      <td>0.0605</td>\n",
              "      <td>0.7896</td>\n",
              "      <td>-1.0376</td>\n",
              "      <td>5.6763</td>\n",
              "      <td>0.0000</td>\n",
              "      <td>5.7404</td>\n",
              "      <td>-38.7103</td>\n",
              "      <td>11.8597</td>\n",
              "      <td>27.88</td>\n",
              "      <td>1316</td>\n",
              "      <td>1046</td>\n",
              "      <td>-1571</td>\n",
              "    </tr>\n",
              "    <tr>\n",
              "      <th>2020-02-28 11:41:18.160</th>\n",
              "      <td>0.6279</td>\n",
              "      <td>0.0527</td>\n",
              "      <td>0.8018</td>\n",
              "      <td>2.5024</td>\n",
              "      <td>11.9629</td>\n",
              "      <td>-0.1831</td>\n",
              "      <td>5.4602</td>\n",
              "      <td>-37.2107</td>\n",
              "      <td>12.8046</td>\n",
              "      <td>27.94</td>\n",
              "      <td>602</td>\n",
              "      <td>2811</td>\n",
              "      <td>-451</td>\n",
              "    </tr>\n",
              "    <tr>\n",
              "      <th>2020-02-28 11:41:18.360</th>\n",
              "      <td>0.5835</td>\n",
              "      <td>0.0669</td>\n",
              "      <td>0.8198</td>\n",
              "      <td>5.3711</td>\n",
              "      <td>10.3149</td>\n",
              "      <td>0.6714</td>\n",
              "      <td>5.7458</td>\n",
              "      <td>-35.1508</td>\n",
              "      <td>13.6011</td>\n",
              "      <td>27.88</td>\n",
              "      <td>1382</td>\n",
              "      <td>1107</td>\n",
              "      <td>-1501</td>\n",
              "    </tr>\n",
              "    <tr>\n",
              "      <th>2020-02-28 11:41:18.560</th>\n",
              "      <td>0.5684</td>\n",
              "      <td>0.0703</td>\n",
              "      <td>0.8286</td>\n",
              "      <td>0.1831</td>\n",
              "      <td>2.9297</td>\n",
              "      <td>0.5493</td>\n",
              "      <td>5.7953</td>\n",
              "      <td>-34.1840</td>\n",
              "      <td>14.3042</td>\n",
              "      <td>27.89</td>\n",
              "      <td>1410</td>\n",
              "      <td>1101</td>\n",
              "      <td>-1483</td>\n",
              "    </tr>\n",
              "    <tr>\n",
              "      <th>2020-02-28 11:41:18.760</th>\n",
              "      <td>0.5679</td>\n",
              "      <td>0.0674</td>\n",
              "      <td>0.8311</td>\n",
              "      <td>0.0610</td>\n",
              "      <td>1.8311</td>\n",
              "      <td>2.4414</td>\n",
              "      <td>5.2789</td>\n",
              "      <td>-34.0686</td>\n",
              "      <td>15.3754</td>\n",
              "      <td>27.87</td>\n",
              "      <td>1407</td>\n",
              "      <td>1118</td>\n",
              "      <td>-1469</td>\n",
              "    </tr>\n",
              "  </tbody>\n",
              "</table>\n",
              "<p>4248290 rows × 13 columns</p>\n",
              "</div>"
            ],
            "text/plain": [
              "                          ax(g)   ay(g)   az(g)  ...    hx    hy    hz\n",
              "ChipTime                                         ...                  \n",
              "2020-02-18 15:40:20.960 -0.1851  0.1094  0.9927  ...   929 -1405    27\n",
              "2020-02-18 15:40:21.160 -0.1533  0.0942  1.0044  ...   924 -1399    47\n",
              "2020-02-18 15:40:21.360 -0.1455  0.0859  1.0083  ...   896 -1369    51\n",
              "2020-02-18 15:40:21.560 -0.1299  0.1064  1.0044  ...   931 -1369    49\n",
              "2020-02-18 15:40:21.760 -0.1230  0.0986  1.0044  ...  1012 -1426    39\n",
              "...                         ...     ...     ...  ...   ...   ...   ...\n",
              "2020-02-28 11:41:17.960  0.6367  0.0605  0.7896  ...  1316  1046 -1571\n",
              "2020-02-28 11:41:18.160  0.6279  0.0527  0.8018  ...   602  2811  -451\n",
              "2020-02-28 11:41:18.360  0.5835  0.0669  0.8198  ...  1382  1107 -1501\n",
              "2020-02-28 11:41:18.560  0.5684  0.0703  0.8286  ...  1410  1101 -1483\n",
              "2020-02-28 11:41:18.760  0.5679  0.0674  0.8311  ...  1407  1118 -1469\n",
              "\n",
              "[4248290 rows x 13 columns]"
            ]
          },
          "metadata": {
            "tags": []
          },
          "execution_count": 11
        }
      ]
    },
    {
      "cell_type": "code",
      "metadata": {
        "id": "sejuZX5DJLZu",
        "colab": {
          "base_uri": "https://localhost:8080/",
          "height": 318
        },
        "outputId": "aacb298f-0aa3-4954-e1ae-b0f9b2ecedc9"
      },
      "source": [
        "#@title\n",
        "df.index = pd.to_datetime(df.index)\n",
        "az_data = df['az(g)'].resample('2H').mean() \n",
        "# az_data_rs = df['az(g)'].resample('1min').mean() \n",
        "az_data = az_data['2020-02-18':]\n",
        "az_data = az_data[az_data.values > 1.014]\n",
        "az_data.plot()"
      ],
      "execution_count": null,
      "outputs": [
        {
          "output_type": "execute_result",
          "data": {
            "text/plain": [
              "<matplotlib.axes._subplots.AxesSubplot at 0x7fce4d047d10>"
            ]
          },
          "metadata": {
            "tags": []
          },
          "execution_count": 12
        },
        {
          "output_type": "display_data",
          "data": {
            "image/png": "[encoded data removed]",
            "text/plain": [
              "<Figure size 432x288 with 1 Axes>"
            ]
          },
          "metadata": {
            "tags": [],
            "needs_background": "light"
          }
        }
      ]
    },
    {
      "cell_type": "markdown",
      "metadata": {
        "id": "gAijE8tQ8cRI"
      },
      "source": [
        "# **ARIMA**"
      ]
    },
    {
      "cell_type": "code",
      "metadata": {
        "id": "A1k9-sAxQN_Y"
      },
      "source": [
        "from statsmodels.tsa.stattools import adfuller\n",
        "from numpy import log \n",
        "from matplotlib.pylab import rcParams\n",
        "rcParams['figure.figsize']=(15,6)"
      ],
      "execution_count": null,
      "outputs": []
    },
    {
      "cell_type": "markdown",
      "metadata": {
        "id": "wVFZDo78TaxB"
      },
      "source": [
        "**Stationarity Test**"
      ]
    },
    {
      "cell_type": "code",
      "metadata": {
        "id": "PYXMGIeIS-Qx"
      },
      "source": [
        "def stationarity_check(timeseries):\n",
        "  # Rolling statistics\n",
        "  rolling_mean = timeseries.rolling(30,1).mean()\n",
        "  rolling_std = timeseries.rolling(30,1).std()\n",
        "\n",
        "  #Plot rolling statistics\n",
        "  original = go.Scatter(x=timeseries.index,y=timeseries.values)\n",
        "  mean = go.Scatter(x=rolling_mean.index,y=rolling_mean.values, line=dict(color='chartreuse'))\n",
        "  std = go.Scatter(x=rolling_std.index,y=rolling_std.values, line=dict(color='black'))\n",
        "\n",
        "  figx = go.Figure()\n",
        "  figx.add_trace(original)\n",
        "  figx.add_trace(mean)\n",
        "  figx.show()\n",
        " \n",
        "  return original,mean,std\n",
        "  "
      ],
      "execution_count": null,
      "outputs": []
    },
    {
      "cell_type": "code",
      "metadata": {
        "id": "qJUwxinqWMfh"
      },
      "source": [
        "def Dickey_Fuller_test(timeseries):\n",
        "  print('Dickey Fuller Test:')\n",
        "  di_fu_test = adfuller(timeseries,autolag='AIC')\n",
        "  df_results = pd.Series(di_fu_test[0:4], index=['Test Statistic','p-value','#Lags Used','Number of Observations Used'])\n",
        "  for key,value in di_fu_test[4].items():\n",
        "        df_results['Critical Value (%s)'%key] = value\n",
        "  print (df_results)"
      ],
      "execution_count": null,
      "outputs": []
    },
    {
      "cell_type": "code",
      "metadata": {
        "id": "TcXP1etxUWcq"
      },
      "source": [
        "# original,mean,std = stationarity_check(az_data)"
      ],
      "execution_count": null,
      "outputs": []
    },
    {
      "cell_type": "code",
      "metadata": {
        "id": "rrvUHllYzfzR"
      },
      "source": [
        "from sklearn.preprocessing import StandardScaler\n",
        "\n",
        "scaler = StandardScaler()\n",
        "az_data_values = np.reshape(az_data.values, (len(az_data),1))\n",
        "az_data_scaled = scaler.fit_transform(az_data_values)"
      ],
      "execution_count": null,
      "outputs": []
    },
    {
      "cell_type": "code",
      "metadata": {
        "colab": {
          "base_uri": "https://localhost:8080/"
        },
        "id": "UgPHNYVmWak9",
        "outputId": "86bf2501-77d0-4146-cf38-15aaa4db7c62"
      },
      "source": [
        "Dickey_Fuller_test(az_data_scaled)"
      ],
      "execution_count": null,
      "outputs": [
        {
          "output_type": "stream",
          "text": [
            "Dickey Fuller Test:\n",
            "Test Statistic                  -2.501971\n",
            "p-value                          0.114996\n",
            "#Lags Used                      12.000000\n",
            "Number of Observations Used    105.000000\n",
            "Critical Value (1%)             -3.494220\n",
            "Critical Value (5%)             -2.889485\n",
            "Critical Value (10%)            -2.581676\n",
            "dtype: float64\n"
          ],
          "name": "stdout"
        }
      ]
    },
    {
      "cell_type": "code",
      "metadata": {
        "id": "qoQDdhm17xCB"
      },
      "source": [
        "#@title\n",
        "from statsmodels.tsa.stattools import acf, pacf\n",
        "import statsmodels.api as sm"
      ],
      "execution_count": null,
      "outputs": []
    },
    {
      "cell_type": "code",
      "metadata": {
        "id": "ipclr2iF7yiI"
      },
      "source": [
        "#@title\n",
        "\n",
        "def acf_pacf(data,lags_):\n",
        "  fig = plt.figure(figsize=(12,8))\n",
        "  ax1 = fig.add_subplot(211)\n",
        "  fig = sm.graphics.tsa.plot_acf(data, lags=lags_, ax=ax1) # \n",
        "  ax2 = fig.add_subplot(212)\n",
        "  fig = sm.graphics.tsa.plot_pacf(data, lags=lags_, ax=ax2)# , lags=40"
      ],
      "execution_count": null,
      "outputs": []
    },
    {
      "cell_type": "code",
      "metadata": {
        "id": "OLClFIGPvIqz",
        "colab": {
          "base_uri": "https://localhost:8080/"
        },
        "outputId": "aed36d91-da9c-47a5-f547-fe0e0c85977f"
      },
      "source": [
        "az_scaled_df = pd.DataFrame(az_data_scaled)\n",
        "az_diff = az_scaled_df.diff()\n",
        "az_diff = az_diff.dropna()\n",
        "Dickey_Fuller_test(az_diff)\n",
        "# az_diff.plot()"
      ],
      "execution_count": null,
      "outputs": [
        {
          "output_type": "stream",
          "text": [
            "Dickey Fuller Test:\n",
            "Test Statistic                  -3.430914\n",
            "p-value                          0.009949\n",
            "#Lags Used                      12.000000\n",
            "Number of Observations Used    104.000000\n",
            "Critical Value (1%)             -3.494850\n",
            "Critical Value (5%)             -2.889758\n",
            "Critical Value (10%)            -2.581822\n",
            "dtype: float64\n"
          ],
          "name": "stdout"
        }
      ]
    },
    {
      "cell_type": "code",
      "metadata": {
        "id": "2sx2LvZ38hue"
      },
      "source": [
        "# acf_pacf(az_data_scaled,40)\n",
        "# acf_pacf(az_diff,40)\n"
      ],
      "execution_count": null,
      "outputs": []
    },
    {
      "cell_type": "code",
      "metadata": {
        "id": "qjaCEZ51nI-W"
      },
      "source": [
        "train_size = np.int(len(az_data_scaled) * 0.6)\n",
        "test_size = len(az_data_scaled) - train_size\n",
        "\n",
        "\n",
        "train = az_data_scaled[0:train_size]\n",
        "test = az_data_scaled[train_size:]"
      ],
      "execution_count": null,
      "outputs": []
    },
    {
      "cell_type": "markdown",
      "metadata": {
        "id": "uDx2aJEqbKrU"
      },
      "source": [
        "**p<0.05 ----> 95% confidence interval-------> time series is stationary**"
      ]
    },
    {
      "cell_type": "markdown",
      "metadata": {
        "id": "CdmYiF6Abrl3"
      },
      "source": [
        "**AUTO ARIMA**"
      ]
    },
    {
      "cell_type": "code",
      "metadata": {
        "id": "Lfaa39BNbt71"
      },
      "source": [
        "from pmdarima import auto_arima\n",
        "\n",
        "from statsmodels.tsa.arima_model import ARIMA"
      ],
      "execution_count": null,
      "outputs": []
    },
    {
      "cell_type": "markdown",
      "metadata": {
        "id": "p3TaB0PTCUbQ"
      },
      "source": [
        "**Working Model**"
      ]
    },
    {
      "cell_type": "code",
      "metadata": {
        "id": "qCvY4k0obt-f",
        "colab": {
          "base_uri": "https://localhost:8080/"
        },
        "outputId": "67c367dd-e00d-42da-8a37-52a2c3f56c0c"
      },
      "source": [
        "az_data_fit = auto_arima(az_data_scaled,trace=True,suppress_warnings=True,error_action='ignore')\n"
      ],
      "execution_count": null,
      "outputs": [
        {
          "output_type": "stream",
          "text": [
            "Performing stepwise search to minimize aic\n",
            " ARIMA(2,0,2)(0,0,0)[0] intercept   : AIC=179.354, Time=0.21 sec\n",
            " ARIMA(0,0,0)(0,0,0)[0] intercept   : AIC=338.869, Time=0.10 sec\n",
            " ARIMA(1,0,0)(0,0,0)[0] intercept   : AIC=220.092, Time=0.03 sec\n",
            " ARIMA(0,0,1)(0,0,0)[0] intercept   : AIC=242.204, Time=0.06 sec\n",
            " ARIMA(0,0,0)(0,0,0)[0]             : AIC=336.869, Time=0.06 sec\n",
            " ARIMA(1,0,2)(0,0,0)[0] intercept   : AIC=187.709, Time=0.12 sec\n",
            " ARIMA(2,0,1)(0,0,0)[0] intercept   : AIC=177.942, Time=0.11 sec\n",
            " ARIMA(1,0,1)(0,0,0)[0] intercept   : AIC=194.233, Time=0.07 sec\n",
            " ARIMA(2,0,0)(0,0,0)[0] intercept   : AIC=178.581, Time=0.05 sec\n",
            " ARIMA(3,0,1)(0,0,0)[0] intercept   : AIC=179.453, Time=0.25 sec\n",
            " ARIMA(3,0,0)(0,0,0)[0] intercept   : AIC=178.791, Time=0.08 sec\n",
            " ARIMA(3,0,2)(0,0,0)[0] intercept   : AIC=181.502, Time=0.33 sec\n",
            " ARIMA(2,0,1)(0,0,0)[0]             : AIC=175.952, Time=0.05 sec\n",
            " ARIMA(1,0,1)(0,0,0)[0]             : AIC=192.254, Time=0.05 sec\n",
            " ARIMA(2,0,0)(0,0,0)[0]             : AIC=176.592, Time=0.05 sec\n",
            " ARIMA(3,0,1)(0,0,0)[0]             : AIC=177.461, Time=0.16 sec\n",
            " ARIMA(2,0,2)(0,0,0)[0]             : AIC=177.362, Time=0.07 sec\n",
            " ARIMA(1,0,0)(0,0,0)[0]             : AIC=218.126, Time=0.02 sec\n",
            " ARIMA(1,0,2)(0,0,0)[0]             : AIC=185.728, Time=0.07 sec\n",
            " ARIMA(3,0,0)(0,0,0)[0]             : AIC=176.801, Time=0.06 sec\n",
            " ARIMA(3,0,2)(0,0,0)[0]             : AIC=179.511, Time=0.19 sec\n",
            "\n",
            "Best model:  ARIMA(2,0,1)(0,0,0)[0]          \n",
            "Total fit time: 2.268 seconds\n"
          ],
          "name": "stdout"
        }
      ]
    },
    {
      "cell_type": "code",
      "metadata": {
        "id": "bwQcFghUe_ci"
      },
      "source": [
        "def ARIMA_model(data,order_):\n",
        "  model_ar=ARIMA(data,order=order_)\n",
        "  model_ar= model_ar.fit()\n",
        "  model_ar.summary()\n",
        "\n",
        "  plt.plot(data)\n",
        "  plt.plot(model_ar.fittedvalues, color = 'red')\n",
        "\n",
        "  return model_ar"
      ],
      "execution_count": null,
      "outputs": []
    },
    {
      "cell_type": "code",
      "metadata": {
        "id": "ZJPOk54Ugsot"
      },
      "source": [
        "# model_301 = ARIMA_model(train,(2,0,1))\n",
        "# model_301.summary()"
      ],
      "execution_count": null,
      "outputs": []
    },
    {
      "cell_type": "code",
      "metadata": {
        "id": "U4K6Jy6IvCAQ"
      },
      "source": [
        "# model_201 = ARIMA_model(az_data_scaled,(2,0,1))\n",
        "# model_201.summary()"
      ],
      "execution_count": null,
      "outputs": []
    },
    {
      "cell_type": "code",
      "metadata": {
        "id": "-psWlDYAtuTl"
      },
      "source": [
        "# model_211 = ARIMA_model(train,(2,1,1))\n",
        "# model_211.summary()"
      ],
      "execution_count": null,
      "outputs": []
    },
    {
      "cell_type": "code",
      "metadata": {
        "id": "KkDHvMpbee9e"
      },
      "source": [
        "# az_data_fit_new = auto_arima(az_data_scaled,trace=True,d=0,suppress_warnings=True,error_action='ignore')"
      ],
      "execution_count": null,
      "outputs": []
    },
    {
      "cell_type": "markdown",
      "metadata": {
        "id": "KIRqO1zOku7P"
      },
      "source": [
        "**Seasonal Model**"
      ]
    },
    {
      "cell_type": "code",
      "metadata": {
        "id": "ssgjkjCsk29E",
        "colab": {
          "base_uri": "https://localhost:8080/",
          "height": 847
        },
        "outputId": "9be7bbfa-b8e4-4893-db68-b154725be67a"
      },
      "source": [
        "stepwise_fit = auto_arima(az_data_scaled, start_p = 1, start_q = 1, \n",
        "                          max_p = 3, max_q = 3, m = 12, \n",
        "                          start_P = 0, seasonal = True, \n",
        "                          d = 1, D = 1, trace = True, \n",
        "                          error_action ='ignore',   # we don't want to know if an order does not work \n",
        "                          suppress_warnings = True,  # we don't want convergence warnings \n",
        "                          stepwise = True)           # set to stepwise \n",
        "  \n",
        "# To print the summary \n",
        "stepwise_fit.summary() "
      ],
      "execution_count": null,
      "outputs": [
        {
          "output_type": "stream",
          "text": [
            "Performing stepwise search to minimize aic\n",
            " ARIMA(1,1,1)(0,1,1)[12]             : AIC=inf, Time=1.11 sec\n",
            " ARIMA(0,1,0)(0,1,0)[12]             : AIC=139.061, Time=0.03 sec\n",
            " ARIMA(1,1,0)(1,1,0)[12]             : AIC=129.693, Time=0.19 sec\n",
            " ARIMA(0,1,1)(0,1,1)[12]             : AIC=inf, Time=0.60 sec\n",
            " ARIMA(1,1,0)(0,1,0)[12]             : AIC=139.102, Time=0.06 sec\n",
            " ARIMA(1,1,0)(2,1,0)[12]             : AIC=130.193, Time=0.48 sec\n",
            " ARIMA(1,1,0)(1,1,1)[12]             : AIC=inf, Time=1.01 sec\n",
            " ARIMA(1,1,0)(0,1,1)[12]             : AIC=inf, Time=0.70 sec\n",
            " ARIMA(1,1,0)(2,1,1)[12]             : AIC=inf, Time=2.43 sec\n",
            " ARIMA(0,1,0)(1,1,0)[12]             : AIC=130.401, Time=0.10 sec\n",
            " ARIMA(2,1,0)(1,1,0)[12]             : AIC=130.364, Time=0.23 sec\n",
            " ARIMA(1,1,1)(1,1,0)[12]             : AIC=131.381, Time=0.33 sec\n",
            " ARIMA(0,1,1)(1,1,0)[12]             : AIC=129.383, Time=0.14 sec\n",
            " ARIMA(0,1,1)(0,1,0)[12]             : AIC=138.972, Time=0.05 sec\n",
            " ARIMA(0,1,1)(2,1,0)[12]             : AIC=129.948, Time=0.34 sec\n",
            " ARIMA(0,1,1)(1,1,1)[12]             : AIC=inf, Time=0.98 sec\n",
            " ARIMA(0,1,1)(2,1,1)[12]             : AIC=inf, Time=2.43 sec\n",
            " ARIMA(0,1,2)(1,1,0)[12]             : AIC=131.373, Time=0.22 sec\n",
            " ARIMA(1,1,2)(1,1,0)[12]             : AIC=inf, Time=1.53 sec\n",
            " ARIMA(0,1,1)(1,1,0)[12] intercept   : AIC=131.373, Time=0.35 sec\n",
            "\n",
            "Best model:  ARIMA(0,1,1)(1,1,0)[12]          \n",
            "Total fit time: 13.341 seconds\n"
          ],
          "name": "stdout"
        },
        {
          "output_type": "execute_result",
          "data": {
            "text/html": [
              "<table class=\"simpletable\">\n",
              "<caption>SARIMAX Results</caption>\n",
              "<tr>\n",
              "  <th>Dep. Variable:</th>                  <td>y</td>                <th>  No. Observations:  </th>   <td>118</td>  \n",
              "</tr>\n",
              "<tr>\n",
              "  <th>Model:</th>           <td>SARIMAX(0, 1, 1)x(1, 1, [], 12)</td> <th>  Log Likelihood     </th> <td>-61.691</td>\n",
              "</tr>\n",
              "<tr>\n",
              "  <th>Date:</th>                   <td>Thu, 15 Apr 2021</td>         <th>  AIC                </th> <td>129.383</td>\n",
              "</tr>\n",
              "<tr>\n",
              "  <th>Time:</th>                       <td>14:59:53</td>             <th>  BIC                </th> <td>137.345</td>\n",
              "</tr>\n",
              "<tr>\n",
              "  <th>Sample:</th>                         <td>0</td>                <th>  HQIC               </th> <td>132.609</td>\n",
              "</tr>\n",
              "<tr>\n",
              "  <th></th>                             <td> - 118</td>              <th>                     </th>    <td> </td>   \n",
              "</tr>\n",
              "<tr>\n",
              "  <th>Covariance Type:</th>               <td>opg</td>               <th>                     </th>    <td> </td>   \n",
              "</tr>\n",
              "</table>\n",
              "<table class=\"simpletable\">\n",
              "<tr>\n",
              "      <td></td>        <th>coef</th>     <th>std err</th>      <th>z</th>      <th>P>|z|</th>  <th>[0.025</th>    <th>0.975]</th>  \n",
              "</tr>\n",
              "<tr>\n",
              "  <th>ma.L1</th>    <td>    0.1755</td> <td>    0.094</td> <td>    1.859</td> <td> 0.063</td> <td>   -0.010</td> <td>    0.361</td>\n",
              "</tr>\n",
              "<tr>\n",
              "  <th>ar.S.L12</th> <td>   -0.3609</td> <td>    0.083</td> <td>   -4.344</td> <td> 0.000</td> <td>   -0.524</td> <td>   -0.198</td>\n",
              "</tr>\n",
              "<tr>\n",
              "  <th>sigma2</th>   <td>    0.1865</td> <td>    0.020</td> <td>    9.280</td> <td> 0.000</td> <td>    0.147</td> <td>    0.226</td>\n",
              "</tr>\n",
              "</table>\n",
              "<table class=\"simpletable\">\n",
              "<tr>\n",
              "  <th>Ljung-Box (L1) (Q):</th>     <td>0.00</td> <th>  Jarque-Bera (JB):  </th> <td>13.35</td>\n",
              "</tr>\n",
              "<tr>\n",
              "  <th>Prob(Q):</th>                <td>0.99</td> <th>  Prob(JB):          </th> <td>0.00</td> \n",
              "</tr>\n",
              "<tr>\n",
              "  <th>Heteroskedasticity (H):</th> <td>1.77</td> <th>  Skew:              </th> <td>-0.16</td>\n",
              "</tr>\n",
              "<tr>\n",
              "  <th>Prob(H) (two-sided):</th>    <td>0.10</td> <th>  Kurtosis:          </th> <td>4.72</td> \n",
              "</tr>\n",
              "</table><br/><br/>Warnings:<br/>[1] Covariance matrix calculated using the outer product of gradients (complex-step)."
            ],
            "text/plain": [
              "<class 'statsmodels.iolib.summary.Summary'>\n",
              "\"\"\"\n",
              "                                      SARIMAX Results                                      \n",
              "===========================================================================================\n",
              "Dep. Variable:                                   y   No. Observations:                  118\n",
              "Model:             SARIMAX(0, 1, 1)x(1, 1, [], 12)   Log Likelihood                 -61.691\n",
              "Date:                             Thu, 15 Apr 2021   AIC                            129.383\n",
              "Time:                                     14:59:53   BIC                            137.345\n",
              "Sample:                                          0   HQIC                           132.609\n",
              "                                             - 118                                         \n",
              "Covariance Type:                               opg                                         \n",
              "==============================================================================\n",
              "                 coef    std err          z      P>|z|      [0.025      0.975]\n",
              "------------------------------------------------------------------------------\n",
              "ma.L1          0.1755      0.094      1.859      0.063      -0.010       0.361\n",
              "ar.S.L12      -0.3609      0.083     -4.344      0.000      -0.524      -0.198\n",
              "sigma2         0.1865      0.020      9.280      0.000       0.147       0.226\n",
              "===================================================================================\n",
              "Ljung-Box (L1) (Q):                   0.00   Jarque-Bera (JB):                13.35\n",
              "Prob(Q):                              0.99   Prob(JB):                         0.00\n",
              "Heteroskedasticity (H):               1.77   Skew:                            -0.16\n",
              "Prob(H) (two-sided):                  0.10   Kurtosis:                         4.72\n",
              "===================================================================================\n",
              "\n",
              "Warnings:\n",
              "[1] Covariance matrix calculated using the outer product of gradients (complex-step).\n",
              "\"\"\""
            ]
          },
          "metadata": {
            "tags": []
          },
          "execution_count": 37
        }
      ]
    },
    {
      "cell_type": "code",
      "metadata": {
        "colab": {
          "base_uri": "https://localhost:8080/",
          "height": 430
        },
        "id": "k4pR4-cufHCu",
        "outputId": "05e7a400-3889-4256-c30e-3c58df6c79a7"
      },
      "source": [
        "from statsmodels.tsa.statespace.sarimax import SARIMAX \n",
        "  \n",
        "model = SARIMAX(train,  \n",
        "                order = (0, 1, 1),  \n",
        "                seasonal_order =(1, 1, 0, 12)) \n",
        "  \n",
        "s_model = model.fit() \n",
        "s_model.summary() "
      ],
      "execution_count": null,
      "outputs": [
        {
          "output_type": "execute_result",
          "data": {
            "text/html": [
              "<table class=\"simpletable\">\n",
              "<caption>SARIMAX Results</caption>\n",
              "<tr>\n",
              "  <th>Dep. Variable:</th>                  <td>y</td>                <th>  No. Observations:  </th>   <td>70</td>   \n",
              "</tr>\n",
              "<tr>\n",
              "  <th>Model:</th>           <td>SARIMAX(0, 1, 1)x(1, 1, [], 12)</td> <th>  Log Likelihood     </th> <td>-23.391</td>\n",
              "</tr>\n",
              "<tr>\n",
              "  <th>Date:</th>                   <td>Thu, 15 Apr 2021</td>         <th>  AIC                </th> <td>52.783</td> \n",
              "</tr>\n",
              "<tr>\n",
              "  <th>Time:</th>                       <td>15:00:43</td>             <th>  BIC                </th> <td>58.912</td> \n",
              "</tr>\n",
              "<tr>\n",
              "  <th>Sample:</th>                         <td>0</td>                <th>  HQIC               </th> <td>55.165</td> \n",
              "</tr>\n",
              "<tr>\n",
              "  <th></th>                              <td> - 70</td>              <th>                     </th>    <td> </td>   \n",
              "</tr>\n",
              "<tr>\n",
              "  <th>Covariance Type:</th>               <td>opg</td>               <th>                     </th>    <td> </td>   \n",
              "</tr>\n",
              "</table>\n",
              "<table class=\"simpletable\">\n",
              "<tr>\n",
              "      <td></td>        <th>coef</th>     <th>std err</th>      <th>z</th>      <th>P>|z|</th>  <th>[0.025</th>    <th>0.975]</th>  \n",
              "</tr>\n",
              "<tr>\n",
              "  <th>ma.L1</th>    <td>    0.1038</td> <td>    0.144</td> <td>    0.721</td> <td> 0.471</td> <td>   -0.178</td> <td>    0.386</td>\n",
              "</tr>\n",
              "<tr>\n",
              "  <th>ar.S.L12</th> <td>   -0.1202</td> <td>    0.140</td> <td>   -0.862</td> <td> 0.389</td> <td>   -0.394</td> <td>    0.153</td>\n",
              "</tr>\n",
              "<tr>\n",
              "  <th>sigma2</th>   <td>    0.1326</td> <td>    0.022</td> <td>    5.943</td> <td> 0.000</td> <td>    0.089</td> <td>    0.176</td>\n",
              "</tr>\n",
              "</table>\n",
              "<table class=\"simpletable\">\n",
              "<tr>\n",
              "  <th>Ljung-Box (L1) (Q):</th>     <td>0.00</td> <th>  Jarque-Bera (JB):  </th> <td>5.75</td>\n",
              "</tr>\n",
              "<tr>\n",
              "  <th>Prob(Q):</th>                <td>0.98</td> <th>  Prob(JB):          </th> <td>0.06</td>\n",
              "</tr>\n",
              "<tr>\n",
              "  <th>Heteroskedasticity (H):</th> <td>0.57</td> <th>  Skew:              </th> <td>0.67</td>\n",
              "</tr>\n",
              "<tr>\n",
              "  <th>Prob(H) (two-sided):</th>    <td>0.23</td> <th>  Kurtosis:          </th> <td>3.81</td>\n",
              "</tr>\n",
              "</table><br/><br/>Warnings:<br/>[1] Covariance matrix calculated using the outer product of gradients (complex-step)."
            ],
            "text/plain": [
              "<class 'statsmodels.iolib.summary.Summary'>\n",
              "\"\"\"\n",
              "                                      SARIMAX Results                                      \n",
              "===========================================================================================\n",
              "Dep. Variable:                                   y   No. Observations:                   70\n",
              "Model:             SARIMAX(0, 1, 1)x(1, 1, [], 12)   Log Likelihood                 -23.391\n",
              "Date:                             Thu, 15 Apr 2021   AIC                             52.783\n",
              "Time:                                     15:00:43   BIC                             58.912\n",
              "Sample:                                          0   HQIC                            55.165\n",
              "                                              - 70                                         \n",
              "Covariance Type:                               opg                                         \n",
              "==============================================================================\n",
              "                 coef    std err          z      P>|z|      [0.025      0.975]\n",
              "------------------------------------------------------------------------------\n",
              "ma.L1          0.1038      0.144      0.721      0.471      -0.178       0.386\n",
              "ar.S.L12      -0.1202      0.140     -0.862      0.389      -0.394       0.153\n",
              "sigma2         0.1326      0.022      5.943      0.000       0.089       0.176\n",
              "===================================================================================\n",
              "Ljung-Box (L1) (Q):                   0.00   Jarque-Bera (JB):                 5.75\n",
              "Prob(Q):                              0.98   Prob(JB):                         0.06\n",
              "Heteroskedasticity (H):               0.57   Skew:                             0.67\n",
              "Prob(H) (two-sided):                  0.23   Kurtosis:                         3.81\n",
              "===================================================================================\n",
              "\n",
              "Warnings:\n",
              "[1] Covariance matrix calculated using the outer product of gradients (complex-step).\n",
              "\"\"\""
            ]
          },
          "metadata": {
            "tags": []
          },
          "execution_count": 38
        }
      ]
    },
    {
      "cell_type": "markdown",
      "metadata": {
        "id": "2IGv-px-O4OM"
      },
      "source": [
        "**Model Evaluation Using MSE**"
      ]
    },
    {
      "cell_type": "code",
      "metadata": {
        "id": "s8BF0uJTfTYK"
      },
      "source": [
        "def ARIMA_error(train_,test_,model):\n",
        "  start = len(train_) \n",
        "  end = len(train_) + len(test_) - 1\n",
        "  \n",
        "# Predictions for one-year against the test set \n",
        "  predictions = model.predict(start, end, \n",
        "                             typ = 'levels')\n",
        "  \n",
        "# plot predictions and actual values \n",
        "\n",
        "  fig,ax = plt.subplots()\n",
        "  ax.plot(test, '-b', label = 'actual')\n",
        "  ax.plot(predictions, '-r', label = 'forecast')\n",
        "  leg = ax.legend()\n",
        "\n",
        "  return mean_squared_error(predictions,test)"
      ],
      "execution_count": null,
      "outputs": []
    },
    {
      "cell_type": "code",
      "metadata": {
        "colab": {
          "base_uri": "https://localhost:8080/",
          "height": 374
        },
        "id": "DdqDjKebOEE3",
        "outputId": "be30534f-7f96-4615-d389-95166764edf9"
      },
      "source": [
        "# arima_301_mse = ARIMA_error(train,test,model_301)\n",
        "# arima_211_mse = ARIMA_error(train,test,model_211)\n",
        "\n",
        "sarima_mse = ARIMA_error(train,test,s_model)\n",
        "\n",
        "# print(arima_301_mse, arima_211_mse)\n"
      ],
      "execution_count": null,
      "outputs": [
        {
          "output_type": "display_data",
          "data": {
            "image/png": "[encoded data removed]",
            "text/plain": [
              "<Figure size 1080x432 with 1 Axes>"
            ]
          },
          "metadata": {
            "tags": [],
            "needs_background": "light"
          }
        }
      ]
    },
    {
      "cell_type": "code",
      "metadata": {
        "id": "mK37ystafxY8",
        "colab": {
          "base_uri": "https://localhost:8080/"
        },
        "outputId": "1bbfd6cb-5236-41dc-a79e-65177bdb6849"
      },
      "source": [
        "sarima_mse"
      ],
      "execution_count": null,
      "outputs": [
        {
          "output_type": "execute_result",
          "data": {
            "text/plain": [
              "1.807732775209093"
            ]
          },
          "metadata": {
            "tags": []
          },
          "execution_count": 44
        }
      ]
    },
    {
      "cell_type": "markdown",
      "metadata": {
        "id": "uufdeXqMhgvp"
      },
      "source": [
        "**Out of Sample Forecast**"
      ]
    },
    {
      "cell_type": "code",
      "metadata": {
        "colab": {
          "base_uri": "https://localhost:8080/",
          "height": 374
        },
        "id": "iZrdobNUha9k",
        "outputId": "c2393e7d-2f08-4b91-de87-a3e7d7e4eb8e"
      },
      "source": [
        "\n",
        "# Train the model on the full dataset \n",
        "model = model = SARIMAX(az_data_scaled,  \n",
        "                        order = (0, 1, 1),  \n",
        "                        seasonal_order =(1, 1, 0, 12)) \n",
        "result = model.fit() \n",
        "  \n",
        "# Forecast for the next 2 days \n",
        "forecast = result.predict(start = len(az_data_scaled),  \n",
        "                          end = (len(az_data_scaled)-1) + 2 * 12,  \n",
        "                          typ = 'levels')\n",
        "  \n",
        "# Plot the forecast values \n",
        "start = len(az_data_scaled)\n",
        "end = (len(az_data_scaled)-1) + 2 * 12\n",
        "\n",
        "x_range = np.arange(start,end+1)\n",
        "\n",
        "fig,ax = plt.subplots()\n",
        "ax.plot(az_data_scaled, '-b', label = 'past')\n",
        "ax.plot(x_range,forecast, '-r', label = 'future')\n",
        "\n",
        "leg = ax.legend()"
      ],
      "execution_count": null,
      "outputs": [
        {
          "output_type": "display_data",
          "data": {
            "image/png": "[encoded data removed]",
            "text/plain": [
              "<Figure size 1080x432 with 1 Axes>"
            ]
          },
          "metadata": {
            "tags": [],
            "needs_background": "light"
          }
        }
      ]
    },
    {
      "cell_type": "markdown",
      "metadata": {
        "id": "Z6kwWlQphtPA"
      },
      "source": [
        "**Evaluation**"
      ]
    },
    {
      "cell_type": "code",
      "metadata": {
        "colab": {
          "base_uri": "https://localhost:8080/"
        },
        "id": "QbftRi866vKg",
        "outputId": "e58718c4-273a-46e2-dd0b-5dc47f2494e3"
      },
      "source": [
        "model301_MSE = (mean_squared_error(model_301.fittedvalues, az_data_scaled))\n",
        "model301_rmse = math.sqrt(model301_MSE)\n",
        "model301_rmse"
      ],
      "execution_count": null,
      "outputs": [
        {
          "output_type": "execute_result",
          "data": {
            "text/plain": [
              "0.24847191856588027"
            ]
          },
          "metadata": {
            "tags": []
          },
          "execution_count": 62
        }
      ]
    },
    {
      "cell_type": "code",
      "metadata": {
        "colab": {
          "base_uri": "https://localhost:8080/"
        },
        "id": "-NFTtGh99yjm",
        "outputId": "e866d976-f51e-4b17-d877-18e7459bf0b5"
      },
      "source": [
        "model211_MSE = (mean_squared_error(model_211.fittedvalues, az_data_scaled[1:]))\n",
        "model211_rmse = math.sqrt(model211_MSE)\n",
        "model211_rmse\n"
      ],
      "execution_count": null,
      "outputs": [
        {
          "output_type": "execute_result",
          "data": {
            "text/plain": [
              "1.0259744932570343"
            ]
          },
          "metadata": {
            "tags": []
          },
          "execution_count": 63
        }
      ]
    },
    {
      "cell_type": "code",
      "metadata": {
        "colab": {
          "base_uri": "https://localhost:8080/"
        },
        "id": "g1-cT7Pv_Bwj",
        "outputId": "7e260802-52a2-43a5-ca13-37b2534506cb"
      },
      "source": [
        "model201_MSE = (mean_squared_error(model_201.fittedvalues, az_data_scaled))\n",
        "model201_rmse = math.sqrt(model201_MSE)\n",
        "model201_rmse\n"
      ],
      "execution_count": null,
      "outputs": [
        {
          "output_type": "execute_result",
          "data": {
            "text/plain": [
              "0.24851595560006717"
            ]
          },
          "metadata": {
            "tags": []
          },
          "execution_count": 65
        }
      ]
    },
    {
      "cell_type": "code",
      "metadata": {
        "id": "mCl-W6x_ozGF"
      },
      "source": [
        "# #@title\n",
        "# train_size = np.int(len(az_data_scaled) * 0.7)\n",
        "# test_size = len(az_data_scaled) - train_size\n",
        "\n",
        "# train_index = np.array(range(1,train_size))\n",
        "\n",
        "# train = az_data_scaled[0:train_size]\n",
        "# test = az_data_scaled[train_size:]\n",
        "\n",
        "# train_df = pd.DataFrame(train)\n",
        "# test_df = pd.DataFrame(test)\n",
        "\n",
        "# test_df.index += train_size\n",
        "\n",
        "\n"
      ],
      "execution_count": null,
      "outputs": []
    },
    {
      "cell_type": "code",
      "metadata": {
        "id": "LZluTHX32lKA"
      },
      "source": [
        ""
      ],
      "execution_count": null,
      "outputs": []
    },
    {
      "cell_type": "code",
      "metadata": {
        "id": "xcewScvZGNXZ"
      },
      "source": [
        ""
      ],
      "execution_count": null,
      "outputs": []
    }
  ]
}